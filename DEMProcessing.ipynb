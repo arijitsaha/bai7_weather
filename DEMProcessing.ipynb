{
 "cells": [
  {
   "cell_type": "code",
   "execution_count": 32,
   "metadata": {
    "collapsed": true
   },
   "outputs": [],
   "source": [
    "import gdal\n",
    "from gdalconst import * "
   ]
  },
  {
   "cell_type": "code",
   "execution_count": 33,
   "metadata": {
    "collapsed": true
   },
   "outputs": [],
   "source": [
    "filename = \"./images/Bhuvan/cdnd43x.tif\""
   ]
  },
  {
   "cell_type": "code",
   "execution_count": 34,
   "metadata": {
    "collapsed": true
   },
   "outputs": [],
   "source": [
    "dataset = gdal.Open(filename, GA_ReadOnly) "
   ]
  },
  {
   "cell_type": "code",
   "execution_count": 35,
   "metadata": {
    "collapsed": false
   },
   "outputs": [
    {
     "data": {
      "text/plain": [
       "<osgeo.gdal.Dataset; proxy of <Swig Object of type 'GDALDatasetShadow *' at 0x129dc1300> >"
      ]
     },
     "execution_count": 35,
     "metadata": {},
     "output_type": "execute_result"
    }
   ],
   "source": [
    "dataset"
   ]
  },
  {
   "cell_type": "code",
   "execution_count": 36,
   "metadata": {
    "collapsed": false
   },
   "outputs": [
    {
     "data": {
      "text/plain": [
       "3600"
      ]
     },
     "execution_count": 36,
     "metadata": {},
     "output_type": "execute_result"
    }
   ],
   "source": [
    "cols = dataset.RasterXSize\n",
    "cols"
   ]
  },
  {
   "cell_type": "code",
   "execution_count": 37,
   "metadata": {
    "collapsed": false
   },
   "outputs": [
    {
     "data": {
      "text/plain": [
       "3600"
      ]
     },
     "execution_count": 37,
     "metadata": {},
     "output_type": "execute_result"
    }
   ],
   "source": [
    "rows = dataset.RasterYSize\n",
    "rows"
   ]
  },
  {
   "cell_type": "code",
   "execution_count": 38,
   "metadata": {
    "collapsed": false
   },
   "outputs": [
    {
     "data": {
      "text/plain": [
       "1"
      ]
     },
     "execution_count": 38,
     "metadata": {},
     "output_type": "execute_result"
    }
   ],
   "source": [
    "bands = dataset.RasterCount\n",
    "bands"
   ]
  },
  {
   "cell_type": "code",
   "execution_count": 39,
   "metadata": {
    "collapsed": false
   },
   "outputs": [
    {
     "data": {
      "text/plain": [
       "'GeoTIFF'"
      ]
     },
     "execution_count": 39,
     "metadata": {},
     "output_type": "execute_result"
    }
   ],
   "source": [
    "driver = dataset.GetDriver().LongName\n",
    "driver"
   ]
  },
  {
   "cell_type": "code",
   "execution_count": 40,
   "metadata": {
    "collapsed": true
   },
   "outputs": [],
   "source": [
    "geotransform = dataset.GetGeoTransform() "
   ]
  },
  {
   "cell_type": "code",
   "execution_count": 41,
   "metadata": {
    "collapsed": false
   },
   "outputs": [
    {
     "data": {
      "text/plain": [
       "(76.99986111111112,\n",
       " 0.0002777777777777778,\n",
       " 0.0,\n",
       " 13.00013888888889,\n",
       " 0.0,\n",
       " -0.0002777777777777778)"
      ]
     },
     "execution_count": 41,
     "metadata": {},
     "output_type": "execute_result"
    }
   ],
   "source": [
    "geotransform"
   ]
  },
  {
   "cell_type": "code",
   "execution_count": 42,
   "metadata": {
    "collapsed": false
   },
   "outputs": [
    {
     "data": {
      "text/plain": [
       "76.99986111111112"
      ]
     },
     "execution_count": 42,
     "metadata": {},
     "output_type": "execute_result"
    }
   ],
   "source": [
    "originX = geotransform[0]\n",
    "originX"
   ]
  },
  {
   "cell_type": "code",
   "execution_count": 43,
   "metadata": {
    "collapsed": false
   },
   "outputs": [
    {
     "data": {
      "text/plain": [
       "13.00013888888889"
      ]
     },
     "execution_count": 43,
     "metadata": {},
     "output_type": "execute_result"
    }
   ],
   "source": [
    "originY = geotransform[3]\n",
    "originY"
   ]
  },
  {
   "cell_type": "code",
   "execution_count": 44,
   "metadata": {
    "collapsed": false
   },
   "outputs": [
    {
     "data": {
      "text/plain": [
       "0.0002777777777777778"
      ]
     },
     "execution_count": 44,
     "metadata": {},
     "output_type": "execute_result"
    }
   ],
   "source": [
    "pixelWidth = geotransform[1]\n",
    "pixelWidth"
   ]
  },
  {
   "cell_type": "code",
   "execution_count": 45,
   "metadata": {
    "collapsed": false
   },
   "outputs": [
    {
     "data": {
      "text/plain": [
       "-0.0002777777777777778"
      ]
     },
     "execution_count": 45,
     "metadata": {},
     "output_type": "execute_result"
    }
   ],
   "source": [
    "pixelHeight = geotransform[5]\n",
    "pixelHeight"
   ]
  },
  {
   "cell_type": "code",
   "execution_count": 46,
   "metadata": {
    "collapsed": true
   },
   "outputs": [],
   "source": [
    "band = dataset.GetRasterBand(1)"
   ]
  },
  {
   "cell_type": "code",
   "execution_count": 47,
   "metadata": {
    "collapsed": false
   },
   "outputs": [
    {
     "name": "stdout",
     "output_type": "stream",
     "text": [
      "None\n"
     ]
    }
   ],
   "source": [
    "print(band.GetNoDataValue())"
   ]
  },
  {
   "cell_type": "code",
   "execution_count": 48,
   "metadata": {
    "collapsed": false
   },
   "outputs": [
    {
     "name": "stdout",
     "output_type": "stream",
     "text": [
      "\n"
     ]
    }
   ],
   "source": [
    "print(band.GetUnitType())"
   ]
  },
  {
   "cell_type": "code",
   "execution_count": 49,
   "metadata": {
    "collapsed": false
   },
   "outputs": [
    {
     "name": "stdout",
     "output_type": "stream",
     "text": [
      "None\n"
     ]
    }
   ],
   "source": [
    "print(band.GetMaximum())"
   ]
  },
  {
   "cell_type": "code",
   "execution_count": 50,
   "metadata": {
    "collapsed": false
   },
   "outputs": [
    {
     "name": "stdout",
     "output_type": "stream",
     "text": [
      "1.0\n"
     ]
    }
   ],
   "source": [
    "print(band.GetScale())"
   ]
  },
  {
   "cell_type": "code",
   "execution_count": 51,
   "metadata": {
    "collapsed": false
   },
   "outputs": [
    {
     "name": "stdout",
     "output_type": "stream",
     "text": [
      "None\n"
     ]
    }
   ],
   "source": [
    "print(band.GetMinimum())"
   ]
  },
  {
   "cell_type": "code",
   "execution_count": 52,
   "metadata": {
    "collapsed": false
   },
   "outputs": [
    {
     "data": {
      "text/plain": [
       "'Int16'"
      ]
     },
     "execution_count": 52,
     "metadata": {},
     "output_type": "execute_result"
    }
   ],
   "source": [
    "bandtype = gdal.GetDataTypeName(band.DataType)\n",
    "bandtype"
   ]
  },
  {
   "cell_type": "code",
   "execution_count": 53,
   "metadata": {
    "collapsed": true
   },
   "outputs": [],
   "source": [
    "scanline = band.ReadRaster( 0, 0, band.XSize, 1,band.XSize, 1, band.DataType)"
   ]
  },
  {
   "cell_type": "code",
   "execution_count": 54,
   "metadata": {
    "collapsed": false
   },
   "outputs": [
    {
     "data": {
      "text/plain": [
       "'\\xa1\\x02\\x9f\\x02\\x9f\\x02\\x9f\\x02\\x9f\\x02\\x9f\\x02\\xa1\\x02\\xa1\\x02\\xa2\\x02\\xa4\\x02\\xa3\\x02\\xa5\\x02\\xa5\\x02\\xa4\\x02\\xa4\\x02\\xa6\\x02\\xa5\\x02\\x9d\\x02\\xa4\\x02\\xa6\\x02\\xaa\\x02\\xa8\\x02\\xab\\x02\\xa7\\x02\\xa6\\x02\\xa7\\x02\\xa4\\x02\\xa4\\x02\\xa6\\x02\\xa6\\x02\\xa6\\x02\\xa9\\x02\\xa8\\x02\\xaa\\x02\\xab\\x02\\xaa\\x02\\xaa\\x02\\xab\\x02\\xad\\x02\\xad\\x02\\xae\\x02\\xaf\\x02\\xaf\\x02\\xb2\\x02\\xb3\\x02\\xb4\\x02\\xb6\\x02\\xb2\\x02\\xb3\\x02\\xb3\\x02\\xb2\\x02\\xb0\\x02\\xb0\\x02\\xaf\\x02\\xb0\\x02\\xb0\\x02\\xaf\\x02\\xae\\x02\\xac\\x02\\xab\\x02\\xa8\\x02\\xa9\\x02\\xae\\x02\\xae\\x02\\xaa\\x02\\xa9\\x02\\xa8\\x02\\xa6\\x02\\xa6\\x02\\xa8\\x02\\xab\\x02\\xad\\x02\\xab\\x02\\xac\\x02\\xa9\\x02\\xac\\x02\\xac\\x02\\xaf\\x02\\xb0\\x02\\xb0\\x02\\xb0\\x02\\xb3\\x02\\xb3\\x02\\xb2\\x02\\xb2\\x02\\xb2\\x02\\xb2\\x02\\xb2\\x02\\xb2\\x02\\xb1\\x02\\xaf\\x02\\xb0\\x02\\xb1\\x02\\xb1\\x02\\xb1\\x02\\xaf\\x02\\xae\\x02\\xac\\x02\\xab\\x02\\xac\\x02\\xac\\x02\\xac\\x02\\xb0\\x02\\xb2\\x02\\xb3\\x02\\xac\\x02\\xa8\\x02\\xa6\\x02\\xa8\\x02\\xaa\\x02\\xac\\x02\\xb5\\x02\\xb3\\x02\\xb3\\x02\\xb5\\x02\\xb2\\x02\\xb0\\x02\\xb1\\x02\\xb4\\x02\\xb2\\x02\\xb0\\x02\\xac\\x02\\xad\\x02\\xac\\x02\\xaf\\x02\\xaf\\x02\\xae\\x02\\xb1\\x02\\xb2\\x02\\xb2\\x02\\xb1\\x02\\xb1\\x02\\xb1\\x02\\xb3\\x02\\xb1\\x02\\xb5\\x02\\xb5\\x02\\xb4\\x02\\xb5\\x02\\xb6\\x02\\xb6\\x02\\xb7\\x02\\xb7\\x02\\xb8\\x02\\xb7\\x02\\xb7\\x02\\xb8\\x02\\xb7\\x02\\xb8\\x02\\xba\\x02\\xb9\\x02\\xb8\\x02\\xb7\\x02\\xb7\\x02\\xb6\\x02\\xb5\\x02\\xb4\\x02\\xb4\\x02\\xb4\\x02\\xb3\\x02\\xb3\\x02\\xb1\\x02\\xb1\\x02\\xb3\\x02\\xb3\\x02\\xb3\\x02\\xb5\\x02\\xb8\\x02\\xb7\\x02\\xb6\\x02\\xb6\\x02\\xb6\\x02\\xb6\\x02\\xb7\\x02\\xb8\\x02\\xb9\\x02\\xb9\\x02\\xbb\\x02\\xba\\x02\\xbc\\x02\\xbe\\x02\\xc3\\x02\\xc4\\x02\\xc6\\x02\\xc7\\x02\\xc8\\x02\\xc8\\x02\\xca\\x02\\xc7\\x02\\xc9\\x02\\xca\\x02\\xcc\\x02\\xcb\\x02\\xca\\x02\\xce\\x02\\xcd\\x02\\xcc\\x02\\xc6\\x02\\xc2\\x02\\xc1\\x02\\xc1\\x02\\xc4\\x02\\xc5\\x02\\xc8\\x02\\xc7\\x02\\xc5\\x02\\xc4\\x02\\xc5\\x02\\xc4\\x02\\xc1\\x02\\xc0\\x02\\xbf\\x02\\xbd\\x02\\xbc\\x02\\xbd\\x02\\xba\\x02\\xba\\x02\\xc2\\x02\\xb9\\x02\\xb8\\x02\\xb9\\x02\\xbb\\x02\\xba\\x02\\xbb\\x02\\xbb\\x02\\xbb\\x02\\xb9\\x02\\xb8\\x02\\xba\\x02\\xb9\\x02\\xb9\\x02\\xba\\x02\\xba\\x02\\xb8\\x02\\xb8\\x02\\xb7\\x02\\xb9\\x02\\xba\\x02\\xbc\\x02\\xbd\\x02\\xbd\\x02\\xbd\\x02\\xc0\\x02\\xc3\\x02\\xc1\\x02\\xc3\\x02\\xc4\\x02\\xc4\\x02\\xc5\\x02\\xc5\\x02\\xc4\\x02\\xc4\\x02\\xc5\\x02\\xc4\\x02\\xc5\\x02\\xc6\\x02\\xc6\\x02\\xc6\\x02\\xc6\\x02\\xc6\\x02\\xc5\\x02\\xc6\\x02\\xc6\\x02\\xc5\\x02\\xc5\\x02\\xc4\\x02\\xc4\\x02\\xc4\\x02\\xc5\\x02\\xc5\\x02\\xc4\\x02\\xc3\\x02\\xc5\\x02\\xc9\\x02\\xc9\\x02\\xc9\\x02\\xca\\x02\\xc8\\x02\\xc7\\x02\\xc2\\x02\\xc5\\x02\\xc4\\x02\\xc3\\x02\\xc3\\x02\\xc2\\x02\\xc2\\x02\\xc1\\x02\\xc0\\x02\\xbf\\x02\\xc0\\x02\\xc2\\x02\\xc1\\x02\\xc0\\x02\\xc0\\x02\\xc0\\x02\\xc0\\x02\\xc0\\x02\\xc3\\x02\\xc3\\x02\\xc3\\x02\\xc7\\x02\\xc7\\x02\\xc6\\x02\\xc7\\x02\\xc8\\x02\\xc7\\x02\\xc9\\x02\\xca\\x02\\xc8\\x02\\xc8\\x02\\xc9\\x02\\xc7\\x02\\xc6\\x02\\xc7\\x02\\xc5\\x02\\xc1\\x02\\xc2\\x02\\xc2\\x02\\xc0\\x02\\xbf\\x02\\xbf\\x02\\xbe\\x02\\xbd\\x02\\xbe\\x02\\xbf\\x02\\xbe\\x02\\xbd\\x02\\xbb\\x02\\xbc\\x02\\xbd\\x02\\xbc\\x02\\xbf\\x02\\xbe\\x02\\xbd\\x02\\xbc\\x02\\xbd\\x02\\xbd\\x02\\xbd\\x02\\xbd\\x02\\xbc\\x02\\xbc\\x02\\xbc\\x02\\xbc\\x02\\xbe\\x02\\xbe\\x02\\xbc\\x02\\xbd\\x02\\xbc\\x02\\xbd\\x02\\xbd\\x02\\xbd\\x02\\xbd\\x02\\xc0\\x02\\xbe\\x02\\xc0\\x02\\xc0\\x02\\xc6\\x02\\xc6\\x02\\xc0\\x02\\xbe\\x02\\xbf\\x02\\xc0\\x02\\xc1\\x02\\xc0\\x02\\xc2\\x02\\xc3\\x02\\xc3\\x02\\xc3\\x02\\xc3\\x02\\xc4\\x02\\xc6\\x02\\xc7\\x02\\xc8\\x02\\xc8\\x02\\xc9\\x02\\xc6\\x02\\xc7\\x02\\xc8\\x02\\xc8\\x02\\xc9\\x02\\xc9\\x02\\xc8\\x02\\xca\\x02\\xc9\\x02\\xc9\\x02\\xc8\\x02\\xc7\\x02\\xc7\\x02\\xc8\\x02\\xc8\\x02\\xc8\\x02\\xc9\\x02\\xc8\\x02\\xc7\\x02\\xc7\\x02\\xc8\\x02\\xc7\\x02\\xc8\\x02\\xc8\\x02\\xca\\x02\\xcb\\x02\\xcb\\x02\\xcb\\x02\\xca\\x02\\xca\\x02\\xca\\x02\\xca\\x02\\xca\\x02\\xca\\x02\\xca\\x02\\xca\\x02\\xcc\\x02\\xcb\\x02\\xcb\\x02\\xcb\\x02\\xcb\\x02\\xcb\\x02\\xcc\\x02\\xcc\\x02\\xcc\\x02\\xcc\\x02\\xcd\\x02\\xce\\x02\\xcf\\x02\\xcf\\x02\\xcf\\x02\\xd0\\x02\\xd1\\x02\\xd2\\x02\\xd4\\x02\\xd6\\x02\\xd5\\x02\\xd6\\x02\\xd7\\x02\\xd7\\x02\\xd7\\x02\\xd7\\x02\\xd9\\x02\\xdb\\x02\\xdb\\x02\\xdc\\x02\\xdc\\x02\\xdc\\x02\\xdc\\x02\\xde\\x02\\xdf\\x02\\xdf\\x02\\xe0\\x02\\xe1\\x02\\xe2\\x02\\xe2\\x02\\xe2\\x02\\xe3\\x02\\xe4\\x02\\xe5\\x02\\xe2\\x02\\xe4\\x02\\xe2\\x02\\xe0\\x02\\xe2\\x02\\xe1\\x02\\xe1\\x02\\xde\\x02\\xde\\x02\\xdf\\x02\\xde\\x02\\xdc\\x02\\xdd\\x02\\xde\\x02\\xde\\x02\\xdf\\x02\\xe0\\x02\\xe2\\x02\\xe4\\x02\\xe5\\x02\\xe6\\x02\\xe8\\x02\\xe8\\x02\\xea\\x02\\xeb\\x02\\xed\\x02\\xee\\x02\\xef\\x02\\xee\\x02\\xee\\x02\\xee\\x02\\xee\\x02\\xee\\x02\\xed\\x02\\xed\\x02\\xed\\x02\\xed\\x02\\xed\\x02\\xed\\x02\\xee\\x02\\xf2\\x02\\xf3\\x02\\xf3\\x02\\xf1\\x02\\xf1\\x02\\xf2\\x02\\xf2\\x02\\xf2\\x02\\xf2\\x02\\xf2\\x02\\xf1\\x02\\xf1\\x02\\xf1\\x02\\xf2\\x02\\xf4\\x02\\xf4\\x02\\xf7\\x02\\xf8\\x02\\xfa\\x02\\xfc\\x02\\xfc\\x02\\xfc\\x02\\xfb\\x02\\xfa\\x02\\xfa\\x02\\xfa\\x02\\xfa\\x02\\xfb\\x02\\xfb\\x02\\xf9\\x02\\xf9\\x02\\xf9\\x02\\xf8\\x02\\xf6\\x02\\xf5\\x02\\xf4\\x02\\xf4\\x02\\xf3\\x02\\xf4\\x02\\xf4\\x02\\xf6\\x02\\xf7\\x02\\xf6\\x02\\xf8\\x02\\xfa\\x02\\xfa\\x02\\xfd\\x02\\xfd\\x02\\xfd\\x02\\xff\\x02\\x01\\x03\\x00\\x03\\x01\\x03\\x02\\x03\\x04\\x03\\x05\\x03\\x06\\x03\\x07\\x03\\n\\x03\\x0b\\x03\\x0e\\x03\\x0e\\x03\\x0f\\x03\\x10\\x03\\x11\\x03\\x0f\\x03\\x0c\\x03\\t\\x03\\x08\\x03\\x07\\x03\\x04\\x03\\x05\\x03\\x04\\x03\\x04\\x03\\x04\\x03\\x03\\x03\\x01\\x03\\x02\\x03\\x00\\x03\\x00\\x03\\xfe\\x02\\xfd\\x02\\xfc\\x02\\xfa\\x02\\xf9\\x02\\xf6\\x02\\xf7\\x02\\xf5\\x02\\xf5\\x02\\xfa\\x02\\xfb\\x02\\xfa\\x02\\xfe\\x02\\xfa\\x02\\xff\\x02\\xfe\\x02\\xff\\x02\\x00\\x03\\x04\\x03\\x01\\x03\\xfd\\x02\\xfb\\x02\\xfa\\x02\\xfb\\x02\\xfa\\x02\\xfc\\x02\\xfd\\x02\\xfd\\x02\\x00\\x03\\x00\\x03\\x00\\x03\\x03\\x03\\x02\\x03\\x05\\x03\\x07\\x03\\x07\\x03\\t\\x03\\n\\x03\\n\\x03\\n\\x03\\x0e\\x03\\x0f\\x03\\x0f\\x03\\x0f\\x03\\x0e\\x03\\r\\x03\\x0e\\x03\\r\\x03\\x0f\\x03\\x0f\\x03\\x0c\\x03\\x0b\\x03\\x0b\\x03\\n\\x03\\n\\x03\\x0b\\x03\\x0b\\x03\\x0b\\x03\\t\\x03\\n\\x03\\n\\x03\\x08\\x03\\t\\x03\\x0c\\x03\\x0c\\x03\\r\\x03\\x11\\x03\\x16\\x03\\x15\\x03\\x14\\x03\\x15\\x03\\x17\\x03\\x18\\x03\\x1a\\x03\\x1d\\x03\\x1e\\x03\\x1e\\x03\\x1e\\x03\\x1d\\x03\\x1c\\x03\\x19\\x03\\x16\\x03\\x15\\x03\\x15\\x03\\x13\\x03\\x11\\x03\\x10\\x03\\r\\x03\\x0c\\x03\\x0c\\x03\\x0c\\x03\\x0c\\x03\\x0b\\x03\\x0b\\x03\\x0b\\x03\\x0b\\x03\\x0e\\x03\\x10\\x03\\x10\\x03\\x12\\x03\\x15\\x03\\x16\\x03\\x15\\x03\\x15\\x03\\x15\\x03\\x16\\x03\\x16\\x03\\x18\\x03\\x17\\x03\\x14\\x03\\x14\\x03\\x14\\x03\\x13\\x03\\x13\\x03\\x14\\x03\\x18\\x03\\x1a\\x03\\x1a\\x03 \\x03%\\x03%\\x03%\\x03#\\x03$\\x03%\\x03\\'\\x03&\\x03(\\x03+\\x030\\x033\\x036\\x037\\x038\\x039\\x037\\x038\\x03:\\x03:\\x03:\\x03=\\x03=\\x03@\\x03A\\x03A\\x03B\\x03A\\x03B\\x03A\\x03A\\x03@\\x03A\\x03C\\x03G\\x03I\\x03K\\x03K\\x03J\\x03J\\x03J\\x03J\\x03K\\x03M\\x03O\\x03P\\x03P\\x03Q\\x03O\\x03N\\x03O\\x03P\\x03S\\x03Y\\x03]\\x03^\\x03[\\x03Z\\x03\\\\\\x03]\\x03\\\\\\x03]\\x03`\\x03b\\x03c\\x03f\\x03i\\x03o\\x03s\\x03x\\x03|\\x03|\\x03w\\x03i\\x03R\\x03H\\x03F\\x03D\\x03B\\x03B\\x03<\\x03;\\x03@\\x03G\\x03G\\x03C\\x03<\\x032\\x03,\\x03%\\x03#\\x03#\\x03#\\x03$\\x03$\\x03$\\x03$\\x03\\x1f\\x03\\x1c\\x03\\x1b\\x03\\x18\\x03\\x18\\x03\\x1f\\x03#\\x03#\\x03&\\x03)\\x03(\\x03(\\x03)\\x03,\\x03-\\x03-\\x03-\\x03)\\x03#\\x03\\x1d\\x03\\x17\\x03\\x13\\x03\\x14\\x03\\x11\\x03\\x0e\\x03\\x0c\\x03\\n\\x03\\x07\\x03\\x04\\x03\\x05\\x03\\x04\\x03\\x03\\x03\\x01\\x03\\xff\\x02\\xfe\\x02\\xfe\\x02\\xfd\\x02\\xfd\\x02\\xff\\x02\\xfe\\x02\\xff\\x02\\xfe\\x02\\x00\\x03\\xfe\\x02\\xfc\\x02\\xfa\\x02\\xf8\\x02\\xf7\\x02\\xf4\\x02\\xf4\\x02\\xf4\\x02\\xf0\\x02\\xee\\x02\\xeb\\x02\\xec\\x02\\xef\\x02\\xee\\x02\\xed\\x02\\xf1\\x02\\xf1\\x02\\xf3\\x02\\xf3\\x02\\xf2\\x02\\xf0\\x02\\xee\\x02\\xed\\x02\\xed\\x02\\xed\\x02\\xee\\x02\\xf0\\x02\\xf2\\x02\\xf3\\x02\\xf3\\x02\\xf4\\x02\\xf4\\x02\\xf6\\x02\\xf8\\x02\\xfb\\x02\\xfc\\x02\\xfe\\x02\\xfe\\x02\\xfd\\x02\\xfb\\x02\\xf9\\x02\\xf7\\x02\\xf8\\x02\\xf9\\x02\\xfa\\x02\\xfa\\x02\\x01\\x03\\x05\\x03\\x07\\x03\\x01\\x03\\x06\\x03\\x10\\x03\\x0c\\x03\\x0b\\x03\\x0e\\x03\\x0e\\x03\\r\\x03\\x0f\\x03\\r\\x03\\t\\x03\\x06\\x03\\x00\\x03\\xfb\\x02\\xf6\\x02\\xf2\\x02\\xef\\x02\\xee\\x02\\xec\\x02\\xee\\x02\\xf1\\x02\\xf4\\x02\\xf5\\x02\\xf8\\x02\\xfc\\x02\\x02\\x03\\x06\\x03\\x07\\x03\\n\\x03\\x0e\\x03\\x0f\\x03\\x13\\x03\\x12\\x03\\r\\x03\\t\\x03\\x05\\x03\\x03\\x03\\x04\\x03\\x06\\x03\\x05\\x03\\x00\\x03\\xfa\\x02\\xf5\\x02\\xf2\\x02\\xf1\\x02\\xef\\x02\\xf1\\x02\\xf1\\x02\\xf0\\x02\\xf1\\x02\\xf5\\x02\\xf8\\x02\\xf8\\x02\\xf6\\x02\\xf7\\x02\\xf7\\x02\\xf4\\x02\\xf3\\x02\\xf4\\x02\\xf6\\x02\\xf4\\x02\\xf2\\x02\\xef\\x02\\xee\\x02\\xf1\\x02\\xf4\\x02\\xf8\\x02\\xfc\\x02\\xff\\x02\\xfe\\x02\\xfd\\x02\\xfd\\x02\\xfc\\x02\\xfa\\x02\\xf9\\x02\\xf9\\x02\\xfa\\x02\\xfb\\x02\\xf9\\x02\\xf6\\x02\\xf3\\x02\\xf3\\x02\\xf2\\x02\\xef\\x02\\xea\\x02\\xe8\\x02\\xe5\\x02\\xe2\\x02\\xe1\\x02\\xe2\\x02\\xe5\\x02\\xe8\\x02\\xea\\x02\\xec\\x02\\xee\\x02\\xf0\\x02\\xf3\\x02\\xf5\\x02\\xf6\\x02\\xfa\\x02\\x02\\x03\\r\\x03\\x10\\x03\\x10\\x03\\x10\\x03\\x10\\x03\\x0f\\x03\\x0f\\x03\\x0b\\x03\\x0c\\x03\\x0e\\x03\\x12\\x03\\x12\\x03\\x14\\x03\\x15\\x03\\x16\\x03\\x1c\\x03 \\x03#\\x03&\\x03\"\\x03$\\x03(\\x03$\\x03\"\\x03&\\x03\\'\\x03\\'\\x03\\'\\x03$\\x03$\\x03\"\\x03 \\x03!\\x03%\\x03$\\x03\\'\\x03+\\x03)\\x03)\\x03+\\x03.\\x030\\x03.\\x03.\\x03,\\x03*\\x03)\\x03\\'\\x03%\\x03%\\x03\"\\x03!\\x03\\x1f\\x03\\x1d\\x03\\x1e\\x03\\x1c\\x03\\x1b\\x03\\x19\\x03\\x15\\x03\\x18\\x03\\x18\\x03\\x17\\x03\\x14\\x03\\x14\\x03\\x14\\x03\\x13\\x03\\x13\\x03\\x12\\x03\\x12\\x03\\x12\\x03\\x13\\x03\\x14\\x03\\x12\\x03\\x11\\x03\\x10\\x03\\r\\x03\\r\\x03\\r\\x03\\r\\x03\\r\\x03\\r\\x03\\x0c\\x03\\r\\x03\\r\\x03\\x0b\\x03\\x0c\\x03\\n\\x03\\x0c\\x03\\x0c\\x03\\x0e\\x03\\r\\x03\\n\\x03\\x08\\x03\\x08\\x03\\x08\\x03\\x07\\x03\\x07\\x03\\x06\\x03\\x07\\x03\\x05\\x03\\x03\\x03\\x04\\x03\\x04\\x03\\x04\\x03\\x04\\x03\\x05\\x03\\x02\\x03\\x02\\x03\\x01\\x03\\xff\\x02\\xff\\x02\\xfc\\x02\\xfb\\x02\\xfc\\x02\\xfd\\x02\\x00\\x03\\xff\\x02\\xf8\\x02\\xfa\\x02\\xfe\\x02\\x00\\x03\\x00\\x03\\x03\\x03\\x04\\x03\\x02\\x03\\x07\\x03\\t\\x03\\t\\x03\\x0b\\x03\\x0f\\x03\\x0b\\x03\\n\\x03\\n\\x03\\t\\x03\\t\\x03\\t\\x03\\x08\\x03\\x07\\x03\\x05\\x03\\x04\\x03\\xff\\x02\\x04\\x03\\x03\\x03\\x02\\x03\\x02\\x03\\xff\\x02\\xf7\\x02\\xf9\\x02\\xf7\\x02\\xf5\\x02\\xed\\x02\\xea\\x02\\xee\\x02\\xf3\\x02\\xf9\\x02\\x01\\x03\\x05\\x03\\x01\\x03\\xf7\\x02\\xf6\\x02\\xf8\\x02\\xf8\\x02\\xf6\\x02\\xf5\\x02\\xf4\\x02\\xf3\\x02\\xf1\\x02\\xf0\\x02\\xef\\x02\\xee\\x02\\xee\\x02\\xed\\x02\\xeb\\x02\\xed\\x02\\xef\\x02\\xf3\\x02\\xf5\\x02\\xf8\\x02\\xfb\\x02\\xfc\\x02\\xfa\\x02\\xf6\\x02\\xf0\\x02\\xed\\x02\\xeb\\x02\\xeb\\x02\\xec\\x02\\xea\\x02\\xeb\\x02\\xec\\x02\\xe7\\x02\\xe2\\x02\\xe2\\x02\\xe4\\x02\\xea\\x02\\xe9\\x02\\xe8\\x02\\xe5\\x02\\xe2\\x02\\xdf\\x02\\xda\\x02\\xd7\\x02\\xd5\\x02\\xd4\\x02\\xd2\\x02\\xd2\\x02\\xd1\\x02\\xd4\\x02\\xd5\\x02\\xd7\\x02\\xd9\\x02\\xdb\\x02\\xdb\\x02\\xda\\x02\\xd6\\x02\\xd2\\x02\\xcd\\x02\\xcc\\x02\\xce\\x02\\xce\\x02\\xd3\\x02\\xd4\\x02\\xd1\\x02\\xd5\\x02\\xd6\\x02\\xd5\\x02\\xd4\\x02\\xd5\\x02\\xd3\\x02\\xd2\\x02\\xcc\\x02\\xcd\\x02\\xce\\x02\\xce\\x02\\xcd\\x02\\xcb\\x02\\xcf\\x02\\xc3\\x02\\xb6\\x02\\xb5\\x02\\xb6\\x02\\xb9\\x02\\xbe\\x02\\xc0\\x02\\xc0\\x02\\xc1\\x02\\xc3\\x02\\xc5\\x02\\xc9\\x02\\xce\\x02\\xce\\x02\\xcc\\x02\\xca\\x02\\xc8\\x02\\xcd\\x02\\xcc\\x02\\xca\\x02\\xcb\\x02\\xd3\\x02\\xd5\\x02\\xdd\\x02\\xdc\\x02\\xde\\x02\\xe2\\x02\\xe3\\x02\\xe7\\x02\\xe8\\x02\\xeb\\x02\\xee\\x02\\xf2\\x02\\xf3\\x02\\xf5\\x02\\xfb\\x02\\xfc\\x02\\xfa\\x02\\xf7\\x02\\xf3\\x02\\xf3\\x02\\xf3\\x02\\xf1\\x02\\xf0\\x02\\xec\\x02\\xe8\\x02\\xe1\\x02\\xe2\\x02\\xe6\\x02\\xea\\x02\\xe9\\x02\\xe7\\x02\\xe2\\x02\\xe0\\x02\\xdd\\x02\\xde\\x02\\xdc\\x02\\xdc\\x02\\xd9\\x02\\xd5\\x02\\xd7\\x02\\xd9\\x02\\xd4\\x02\\xcf\\x02\\xc8\\x02\\xc2\\x02\\xbf\\x02\\xc6\\x02\\xc8\\x02\\xcb\\x02\\xcf\\x02\\xd1\\x02\\xd3\\x02\\xd5\\x02\\xd8\\x02\\xda\\x02\\xdd\\x02\\xdb\\x02\\xda\\x02\\xd8\\x02\\xd7\\x02\\xd6\\x02\\xd5\\x02\\xcf\\x02\\xce\\x02\\xd1\\x02\\xd4\\x02\\xd6\\x02\\xd3\\x02\\xd1\\x02\\xd0\\x02\\xcf\\x02\\xd0\\x02\\xd2\\x02\\xd4\\x02\\xd4\\x02\\xd4\\x02\\xd6\\x02\\xd9\\x02\\xde\\x02\\xe0\\x02\\xe1\\x02\\xe3\\x02\\xe5\\x02\\xe6\\x02\\xe8\\x02\\xe7\\x02\\xe7\\x02\\xe6\\x02\\xe4\\x02\\xe2\\x02\\xe2\\x02\\xdd\\x02\\xdc\\x02\\xde\\x02\\xdf\\x02\\xe2\\x02\\xe0\\x02\\xdf\\x02\\xe0\\x02\\xdf\\x02\\xde\\x02\\xdc\\x02\\xda\\x02\\xd8\\x02\\xd7\\x02\\xd5\\x02\\xd3\\x02\\xd3\\x02\\xd9\\x02\\xd9\\x02\\xdc\\x02\\xdf\\x02\\xe4\\x02\\xe4\\x02\\xe6\\x02\\xea\\x02\\xea\\x02\\xea\\x02\\xe6\\x02\\xe6\\x02\\xe5\\x02\\xe2\\x02\\xe0\\x02\\xdd\\x02\\xda\\x02\\xdb\\x02\\xdc\\x02\\xde\\x02\\xe3\\x02\\xe5\\x02\\xe5\\x02\\xe7\\x02\\xe7\\x02\\xe5\\x02\\xe4\\x02\\xe1\\x02\\xd8\\x02\\xd7\\x02\\xd9\\x02\\xd8\\x02\\xd8\\x02\\xd6\\x02\\xd5\\x02\\xd4\\x02\\xd5\\x02\\xda\\x02\\xdd\\x02\\xda\\x02\\xdb\\x02\\xdd\\x02\\xdb\\x02\\xdc\\x02\\xdd\\x02\\xdf\\x02\\xe0\\x02\\xe2\\x02\\xe2\\x02\\xe4\\x02\\xe8\\x02\\xea\\x02\\xeb\\x02\\xed\\x02\\xef\\x02\\xf0\\x02\\xf3\\x02\\xf3\\x02\\xf3\\x02\\xf3\\x02\\xf3\\x02\\xf4\\x02\\xf1\\x02\\xf0\\x02\\xf0\\x02\\xf0\\x02\\xec\\x02\\xed\\x02\\xec\\x02\\xea\\x02\\xea\\x02\\xed\\x02\\xee\\x02\\xed\\x02\\xef\\x02\\xf1\\x02\\xf4\\x02\\xf6\\x02\\xf7\\x02\\xf7\\x02\\xf7\\x02\\xfe\\x02\\xff\\x02\\x01\\x03\\x02\\x03\\x03\\x03\\x06\\x03\\x06\\x03\\x03\\x03\\x01\\x03\\xfb\\x02\\xfe\\x02\\xff\\x02\\x00\\x03\\xfe\\x02\\xfd\\x02\\xfd\\x02\\xfe\\x02\\x00\\x03\\x02\\x03\\x04\\x03\\x05\\x03\\x02\\x03\\xfd\\x02\\xfd\\x02\\xfc\\x02\\xf5\\x02\\xfb\\x02\\xf9\\x02\\xf7\\x02\\xf6\\x02\\xf4\\x02\\xf4\\x02\\xf1\\x02\\xee\\x02\\xee\\x02\\xf0\\x02\\xf3\\x02\\xf3\\x02\\xf5\\x02\\xf6\\x02\\xf6\\x02\\xf9\\x02\\xfa\\x02\\xfe\\x02\\x00\\x03\\x01\\x03\\x03\\x03\\x03\\x03\\x02\\x03\\x02\\x03\\xfd\\x02\\xfc\\x02\\xfb\\x02\\xfa\\x02\\xfd\\x02\\x01\\x03\\xfe\\x02\\xf7\\x02\\xf7\\x02\\xf9\\x02\\xf7\\x02\\xf6\\x02\\xf3\\x02\\xf2\\x02\\xf0\\x02\\xee\\x02\\xee\\x02\\xec\\x02\\xeb\\x02\\xed\\x02\\xeb\\x02\\xea\\x02\\xe8\\x02\\xe7\\x02\\xe8\\x02\\xe4\\x02\\xe5\\x02\\xe1\\x02\\xe3\\x02\\xe3\\x02\\xe4\\x02\\xe4\\x02\\xe2\\x02\\xe4\\x02\\xe5\\x02\\xe4\\x02\\xe4\\x02\\xe1\\x02\\xe3\\x02\\xe4\\x02\\xe4\\x02\\xe3\\x02\\xe4\\x02\\xe7\\x02\\xe8\\x02\\xe9\\x02\\xeb\\x02\\xeb\\x02\\xeb\\x02\\xec\\x02\\xee\\x02\\xef\\x02\\xed\\x02\\xec\\x02\\xec\\x02\\xec\\x02\\xeb\\x02\\xea\\x02\\xeb\\x02\\xea\\x02\\xeb\\x02\\xea\\x02\\xf1\\x02\\xf0\\x02\\xee\\x02\\xef\\x02\\xee\\x02\\xef\\x02\\xf0\\x02\\xef\\x02\\xf0\\x02\\xf0\\x02\\xf2\\x02\\xf1\\x02\\xf0\\x02\\xf1\\x02\\xf0\\x02\\xf1\\x02\\xf2\\x02\\xef\\x02\\xf1\\x02\\xf2\\x02\\xf3\\x02\\xf2\\x02\\xf0\\x02\\xf0\\x02\\xf1\\x02\\xf7\\x02\\xf9\\x02\\xfd\\x02\\xfb\\x02\\xfe\\x02\\xff\\x02\\x02\\x03\\x03\\x03\\x05\\x03\\x06\\x03\\x08\\x03\\t\\x03\\x08\\x03\\t\\x03\\x0b\\x03\\t\\x03\\x0b\\x03\\n\\x03\\x0b\\x03\\x0c\\x03\\x0e\\x03\\x0f\\x03\\x10\\x03\\x0e\\x03\\x0e\\x03\\x0e\\x03\\n\\x03\\x0c\\x03\\x0b\\x03\\n\\x03\\x0b\\x03\\x04\\x03\\x03\\x03\\x04\\x03\\x03\\x03\\x03\\x03\\x00\\x03\\xfd\\x02\\xfe\\x02\\xff\\x02\\xfc\\x02\\xfb\\x02\\xfb\\x02\\xfa\\x02\\xf8\\x02\\xf7\\x02\\xfa\\x02\\xfa\\x02\\xf6\\x02\\xf7\\x02\\xff\\x02\\x03\\x03\\x02\\x03\\x04\\x03\\x04\\x03\\x00\\x03\\x01\\x03\\x00\\x03\\xfd\\x02\\xff\\x02\\x03\\x03\\x01\\x03\\x01\\x03\\x00\\x03\\xff\\x02\\x07\\x03\\x06\\x03\\xf9\\x02\\x01\\x03\\x00\\x03\\x01\\x03\\xff\\x02\\xfe\\x02\\xfb\\x02\\xfa\\x02\\xfb\\x02\\xfc\\x02\\xff\\x02\\x00\\x03\\x02\\x03\\x04\\x03\\x05\\x03\\x03\\x03\\x04\\x03\\x06\\x03\\x06\\x03\\x06\\x03\\x04\\x03\\x04\\x03\\x04\\x03\\x02\\x03\\x00\\x03\\x00\\x03\\xfe\\x02\\xff\\x02\\xff\\x02\\xff\\x02\\xfe\\x02\\xfe\\x02\\xfe\\x02\\xfd\\x02\\xfc\\x02\\xff\\x02\\x07\\x03\\x0b\\x03\\x0f\\x03$\\x03\\x1b\\x03\\x1b\\x03\\x1a\\x03\\x10\\x03\\x0b\\x03\\x0c\\x03\\x0e\\x03\\x0b\\x03\\x08\\x03\\r\\x03\\t\\x03\\x04\\x03\\x06\\x03\\t\\x03\\t\\x03\\r\\x03\\x0f\\x03\\x12\\x03\\x10\\x03\\x11\\x03\\x0f\\x03\\x11\\x03\\x11\\x03\\x10\\x03\\x11\\x03\\x0f\\x03\\x0e\\x03\\x0c\\x03\\n\\x03\\t\\x03\\x06\\x03\\xff\\x02\\xfe\\x02\\xff\\x02\\t\\x03\\x10\\x03\\x10\\x03\\x11\\x03\\x12\\x03\\x13\\x03\\x14\\x03\\x14\\x03\\x15\\x03\\x15\\x03\\x15\\x03\\x15\\x03\\x16\\x03\\x16\\x03\\x18\\x03\\x1a\\x03\\x1c\\x03\\x1e\\x03\\x1e\\x03\\x1c\\x03 \\x03 \\x03 \\x03 \\x03\"\\x03#\\x03&\\x03(\\x03*\\x03+\\x03-\\x03.\\x03.\\x030\\x030\\x031\\x031\\x033\\x033\\x03/\\x032\\x032\\x032\\x032\\x033\\x036\\x036\\x037\\x03:\\x03?\\x03?\\x03>\\x03D\\x03D\\x03B\\x03A\\x03C\\x03G\\x03E\\x03C\\x03D\\x03D\\x03E\\x03C\\x03B\\x03B\\x03A\\x03D\\x03B\\x03@\\x03@\\x03A\\x03C\\x03E\\x03C\\x03F\\x03D\\x03C\\x03B\\x03A\\x03A\\x03@\\x03<\\x03:\\x03;\\x03<\\x03<\\x039\\x038\\x037\\x038\\x039\\x03;\\x03<\\x03<\\x03@\\x03B\\x03B\\x03B\\x03D\\x03G\\x03G\\x03H\\x03H\\x03I\\x03K\\x03O\\x03P\\x03N\\x03N\\x03N\\x03L\\x03K\\x03N\\x03M\\x03G\\x03E\\x03C\\x03A\\x03@\\x03B\\x03A\\x03A\\x03A\\x03?\\x03?\\x03@\\x03@\\x03=\\x03=\\x03<\\x03;\\x033\\x032\\x03.\\x03.\\x03.\\x03-\\x03.\\x03,\\x03+\\x03+\\x03)\\x03(\\x03&\\x03$\\x03!\\x03$\\x03&\\x03\\'\\x03(\\x03(\\x03%\\x03#\\x03 \\x03\\x1d\\x03\\x17\\x03\\x14\\x03\\x12\\x03\\x11\\x03\\x14\\x03\\x18\\x03\\x1c\\x03\\x1e\\x03\\x1c\\x03\\x1b\\x03\\x19\\x03\\x17\\x03\\x16\\x03\\x18\\x03\\x1c\\x03\\x1f\\x03\\x1f\\x03 \\x03!\\x03\\x1d\\x03\\x1c\\x03\\x1b\\x03\\x1d\\x03\\x1a\\x03\\x19\\x03\\x19\\x03\\x16\\x03\\x14\\x03\\x11\\x03\\x0f\\x03\\x0c\\x03\\n\\x03\\t\\x03\\x08\\x03\\x08\\x03\\x06\\x03\\t\\x03\\x0f\\x03\\x15\\x03\\x16\\x03\\x17\\x03\\x1d\\x03 \\x03$\\x03*\\x03.\\x03.\\x030\\x03/\\x030\\x033\\x031\\x033\\x03:\\x03=\\x03A\\x03?\\x03;\\x03<\\x03>\\x03@\\x03@\\x03A\\x03A\\x03A\\x03C\\x03E\\x03F\\x03E\\x03H\\x03I\\x03K\\x03L\\x03L\\x03K\\x03K\\x03J\\x03J\\x03I\\x03I\\x03J\\x03J\\x03L\\x03H\\x03L\\x03M\\x03M\\x03O\\x03M\\x03M\\x03L\\x03K\\x03J\\x03J\\x03K\\x03K\\x03J\\x03M\\x03L\\x03N\\x03N\\x03M\\x03M\\x03L\\x03K\\x03L\\x03N\\x03P\\x03P\\x03L\\x03N\\x03O\\x03M\\x03K\\x03D\\x03D\\x03G\\x03G\\x03F\\x03C\\x03B\\x03A\\x03?\\x03=\\x03<\\x03<\\x039\\x034\\x035\\x034\\x034\\x033\\x034\\x036\\x035\\x033\\x037\\x037\\x036\\x035\\x035\\x035\\x035\\x036\\x035\\x03;\\x039\\x03@\\x03=\\x03@\\x03D\\x03C\\x03@\\x03@\\x03@\\x03>\\x03;\\x039\\x038\\x03>\\x03;\\x03@\\x03B\\x03C\\x03F\\x03B\\x03H\\x03M\\x03O\\x03T\\x03X\\x03R\\x03P\\x03N\\x03N\\x03O\\x03L\\x03P\\x03T\\x03Q\\x03Q\\x03P\\x03K\\x03L\\x03P\\x03P\\x03L\\x03H\\x03A\\x03?\\x03B\\x03B\\x03B\\x03@\\x03;\\x03;\\x039\\x038\\x036\\x039\\x038\\x031\\x034\\x036\\x038\\x038\\x03:\\x03<\\x03<\\x03>\\x03?\\x03A\\x03>\\x03?\\x03>\\x03>\\x03A\\x03A\\x03C\\x03E\\x03H\\x03H\\x03K\\x03I\\x03H\\x03H\\x03E\\x03D\\x03C\\x03D\\x03D\\x03E\\x03F\\x03D\\x03F\\x03C\\x03B\\x03C\\x03B\\x03I\\x03E\\x03E\\x03E\\x03E\\x03F\\x03H\\x03H\\x03K\\x03I\\x03H\\x03G\\x03I\\x03N\\x03O\\x03R\\x03K\\x03K\\x03M\\x03N\\x03N\\x03P\\x03Q\\x03R\\x03R\\x03R\\x03O\\x03L\\x03K\\x03L\\x03J\\x03I\\x03J\\x03H\\x03J\\x03M\\x03R\\x03R\\x03O\\x03O\\x03R\\x03P\\x03R\\x03S\\x03U\\x03S\\x03X\\x03[\\x03X\\x03]\\x03S\\x03R\\x03Q\\x03O\\x03O\\x03K\\x03O\\x03O\\x03R\\x03T\\x03Q\\x03P\\x03O\\x03H\\x03I\\x03I\\x03E\\x03D\\x03D\\x03F\\x03H\\x03F\\x03D\\x03D\\x03H\\x03C\\x03@\\x03?\\x03?\\x03@\\x03B\\x03?\\x03@\\x03A\\x03>\\x03@\\x03?\\x03=\\x03;\\x034\\x036\\x037\\x032\\x034\\x035\\x038\\x03<\\x03;\\x035\\x034\\x036\\x033\\x032\\x032\\x032\\x032\\x033\\x035\\x03:\\x039\\x03:\\x03;\\x03;\\x03?\\x03?\\x03;\\x039\\x038\\x039\\x03;\\x03:\\x03<\\x03=\\x03=\\x03=\\x03>\\x03:\\x038\\x038\\x037\\x038\\x03:\\x03<\\x039\\x03;\\x03=\\x03?\\x03B\\x03F\\x03D\\x03G\\x03H\\x03H\\x03H\\x03C\\x03H\\x03M\\x03H\\x03F\\x03D\\x03C\\x03N\\x03G\\x03B\\x03A\\x03G\\x03H\\x03F\\x03G\\x03H\\x03J\\x03B\\x03@\\x03@\\x03?\\x03>\\x03;\\x03<\\x03;\\x03>\\x03<\\x03:\\x03:\\x03=\\x03?\\x03=\\x03<\\x03<\\x03G\\x03?\\x03=\\x03?\\x03@\\x03A\\x03C\\x03C\\x03C\\x03A\\x03C\\x03B\\x03A\\x03?\\x03@\\x03>\\x03=\\x034\\x037\\x036\\x036\\x036\\x035\\x035\\x039\\x039\\x03;\\x03<\\x03<\\x03<\\x03?\\x03=\\x03;\\x03=\\x03A\\x03D\\x03D\\x03F\\x03F\\x03C\\x03C\\x03D\\x03B\\x03C\\x03D\\x03E\\x03E\\x03E\\x03E\\x03E\\x03E\\x03F\\x03D\\x03D\\x03D\\x03D\\x03D\\x03D\\x03D\\x03D\\x03B\\x03B\\x03A\\x03C\\x03C\\x03F\\x03E\\x03C\\x03F\\x03A\\x03?\\x03@\\x03@\\x03?\\x03A\\x03A\\x03A\\x03?\\x03>\\x03?\\x03<\\x03=\\x03>\\x03<\\x03<\\x03;\\x03;\\x039\\x036\\x036\\x037\\x037\\x035\\x034\\x032\\x03/\\x030\\x034\\x031\\x032\\x031\\x030\\x032\\x03.\\x03.\\x03.\\x030\\x031\\x03-\\x03-\\x03-\\x03-\\x03-\\x03,\\x03,\\x03,\\x03-\\x03/\\x031\\x032\\x034\\x034\\x035\\x037\\x037\\x036\\x036\\x035\\x033\\x033\\x034\\x034\\x034\\x035\\x034\\x035\\x034\\x033\\x034\\x034\\x034\\x034\\x032\\x035\\x035\\x036\\x038\\x038\\x037\\x037\\x03;\\x03=\\x03<\\x03=\\x03;\\x03?\\x03?\\x03=\\x03<\\x03=\\x03<\\x039\\x03:\\x03=\\x03>\\x038\\x037\\x038\\x035\\x032\\x031\\x03.\\x030\\x037\\x032\\x036\\x037\\x036\\x035\\x034\\x036\\x038\\x038\\x037\\x037\\x036\\x03:\\x03=\\x037\\x037\\x036\\x035\\x035\\x035\\x036\\x037\\x036\\x034\\x032\\x032\\x032\\x034\\x033\\x03/\\x030\\x030\\x03/\\x03/\\x03/\\x03.\\x03.\\x03.\\x03-\\x03.\\x03-\\x03,\\x03,\\x03,\\x03,\\x03,\\x03-\\x03.\\x03,\\x03-\\x03.\\x03.\\x03/\\x03/\\x03.\\x03/\\x03.\\x03.\\x03.\\x03-\\x03,\\x03+\\x03*\\x03*\\x03)\\x03\\'\\x03&\\x03\\'\\x03\\'\\x03&\\x03&\\x03$\\x03$\\x03$\\x03&\\x03&\\x03&\\x03&\\x03&\\x03\\'\\x03(\\x03\\'\\x03(\\x03(\\x03(\\x03(\\x03(\\x03(\\x03+\\x03.\\x03.\\x03/\\x030\\x031\\x031\\x03.\\x03.\\x03.\\x03-\\x03*\\x03)\\x03)\\x03(\\x03(\\x03%\\x03$\\x03$\\x03$\\x03$\\x03%\\x03%\\x03#\\x03\"\\x03\"\\x03\"\\x03\"\\x03\"\\x03\"\\x03$\\x03$\\x03!\\x03!\\x03 \\x03\\x1e\\x03\\x1d\\x03\\x1f\\x03 \\x03\\x1d\\x03\\x1b\\x03\\x1e\\x03\\x1d\\x03\\x1e\\x03\\x1e\\x03\\x1d\\x03\\x1e\\x03\\x1d\\x03\\x1d\\x03\\x1d\\x03\\x1d\\x03\\x1c\\x03\\x1b\\x03\\x1c\\x03\\x1c\\x03\\x1c\\x03\\x1c\\x03\\x1b\\x03\\x1b\\x03\\x1b\\x03\\x1b\\x03\\x19\\x03\\x1a\\x03\\x1a\\x03\\x19\\x03\\x19\\x03\\x1a\\x03\\x1a\\x03\\x1a\\x03\\x1a\\x03\\x1d\\x03\\x18\\x03\\x19\\x03\\x18\\x03\\x18\\x03\\x18\\x03\\x18\\x03\\x17\\x03\\x18\\x03\\x18\\x03\\x19\\x03\\x17\\x03\\x17\\x03\\x16\\x03\\x16\\x03\\x15\\x03\\x13\\x03\\x13\\x03\\x18\\x03\\x17\\x03\\x19\\x03\\x18\\x03\\x16\\x03\\x18\\x03\\x19\\x03\\x19\\x03\\x19\\x03\\x19\\x03\\x1a\\x03\\x1b\\x03\\x1a\\x03\\x1a\\x03\\x1c\\x03\\x1d\\x03\\x1d\\x03\\x1e\\x03\\x1d\\x03\\x1d\\x03\\x1d\\x03\\x1e\\x03\\x1e\\x03\\x1e\\x03\\x1e\\x03\\x1e\\x03 \\x03\"\\x03(\\x03\\'\\x03!\\x03\\x1f\\x03\\x1f\\x03!\\x03 \\x03!\\x03 \\x03!\\x03 \\x03!\\x03!\\x03 \\x03!\\x03 \\x03 \\x03\\x1f\\x03\\x1f\\x03\\x1d\\x03\\x1d\\x03\\x1f\\x03\\x1e\\x03\\x1f\\x03!\\x03\\x1f\\x03\\x18\\x03\\x1b\\x03\\x1f\\x03\\x1e\\x03\\x19\\x03\\x1a\\x03\\x16\\x03\\x18\\x03\\x15\\x03\\x15\\x03\\x16\\x03\\x16\\x03\\x18\\x03\\x17\\x03\\x17\\x03\\x18\\x03\\x18\\x03\\x18\\x03\\x17\\x03\\x16\\x03\\x17\\x03\\x18\\x03\\x17\\x03\\x18\\x03\\x19\\x03\\x19\\x03\\x19\\x03\\x1c\\x03\\x17\\x03\\x16\\x03\\x16\\x03\\x16\\x03\\x14\\x03\\x15\\x03\\x14\\x03\\x13\\x03\\x14\\x03\\x14\\x03\\x15\\x03\\x1d\\x03&\\x03\"\\x03\\x16\\x03\\x15\\x03\\x0f\\x03\\x0e\\x03\\r\\x03\\r\\x03\\r\\x03\\x0c\\x03\\x0c\\x03\\x0c\\x03\\x0c\\x03\\x0e\\x03\\x10\\x03\\x0e\\x03\\x0c\\x03\\x0c\\x03\\x10\\x03\\x10\\x03\\x0e\\x03\\x0e\\x03\\x10\\x03\\x0f\\x03\\x0b\\x03\\n\\x03\\x0c\\x03\\x0c\\x03\\n\\x03\\n\\x03\\x08\\x03\\t\\x03\\t\\x03\\x08\\x03\\x08\\x03\\x08\\x03\\t\\x03\\x0b\\x03\\x0b\\x03\\t\\x03\\x0b\\x03\\r\\x03\\n\\x03\\x08\\x03\\x08\\x03\\t\\x03\\x08\\x03\\x08\\x03\\t\\x03\\x06\\x03\\x07\\x03\\x07\\x03\\x08\\x03\\x08\\x03\\x07\\x03\\x07\\x03\\x08\\x03\\x07\\x03\\x07\\x03\\x04\\x03\\x06\\x03\\x08\\x03\\x06\\x03\\x07\\x03\\t\\x03\\x08\\x03\\x07\\x03\\x07\\x03\\x05\\x03\\x07\\x03\\x08\\x03\\x08\\x03\\x08\\x03\\x08\\x03\\x08\\x03\\x07\\x03\\x08\\x03\\n\\x03\\x0b\\x03\\x0b\\x03\\x0c\\x03\\x0b\\x03\\x0b\\x03\\r\\x03\\x0e\\x03\\r\\x03\\x0b\\x03\\t\\x03\\x08\\x03\\t\\x03\\r\\x03\\r\\x03\\x0f\\x03\\x10\\x03\\x11\\x03\\x14\\x03\\x15\\x03\\x13\\x03\\x10\\x03\\x0f\\x03\\x12\\x03\\x11\\x03\\x11\\x03\\x12\\x03\\x13\\x03\\x12\\x03\\x12\\x03\\x12\\x03\\x12\\x03\\x12\\x03\\x11\\x03\\x11\\x03\\x12\\x03\\x12\\x03\\x14\\x03\\x14\\x03\\x16\\x03\\x17\\x03\\x17\\x03\\x18\\x03\\x17\\x03\\x16\\x03\\x17\\x03\\x17\\x03\\x17\\x03\\x16\\x03\\x16\\x03\\x16\\x03\\x16\\x03\\x16\\x03\\x16\\x03\\x16\\x03\\x16\\x03\\x19\\x03\\x19\\x03\\x19\\x03\\x1a\\x03\\x1e\\x03\\x1e\\x03\\x1f\\x03\"\\x03 \\x03 \\x03!\\x03\"\\x03#\\x03#\\x03#\\x03$\\x03%\\x03$\\x03$\\x03&\\x03&\\x03%\\x03%\\x03%\\x03$\\x03%\\x03\"\\x03#\\x03\"\\x03$\\x03$\\x03 \\x03#\\x03\"\\x03 \\x03\\x1f\\x03\\x1f\\x03\\x1e\\x03\\x1e\\x03\\x1e\\x03\\x1b\\x03\\x1a\\x03\\x1a\\x03\\x18\\x03\\x17\\x03\\x16\\x03\\x18\\x03\\x1b\\x03\\x1c\\x03\\x1a\\x03\\x19\\x03\\x1d\\x03\\x1f\\x03\\x1d\\x03\\x1c\\x03\\x1c\\x03\\x1b\\x03\\x1c\\x03\\x1c\\x03\\x1b\\x03\\x1b\\x03\\x1b\\x03\\x1b\\x03\\x1a\\x03\\x1c\\x03\\x1b\\x03\\x1a\\x03\\x18\\x03\\x18\\x03\\x19\\x03\\x19\\x03\\x18\\x03\\x18\\x03\\x18\\x03\\x17\\x03\\x18\\x03\\x18\\x03\\x18\\x03\\x18\\x03\\x1a\\x03\\x1b\\x03\\x1b\\x03\\x1b\\x03\\x1b\\x03\\x1c\\x03\\x1d\\x03\\x1d\\x03\\x1c\\x03\\x1d\\x03\\x1d\\x03\\x1e\\x03\\x1e\\x03\\x1e\\x03\\x1c\\x03\\x1e\\x03\\x1f\\x03\\x1f\\x03 \\x03 \\x03 \\x03!\\x03 \\x03 \\x03#\\x03#\\x03#\\x03$\\x03&\\x03\\'\\x03\\'\\x03(\\x03(\\x03*\\x03*\\x03*\\x03,\\x03,\\x03,\\x03-\\x03-\\x03.\\x03-\\x03-\\x03,\\x03,\\x03,\\x03,\\x03,\\x03+\\x03+\\x03(\\x03)\\x03(\\x03\\'\\x03$\\x03$\\x03&\\x03%\\x03$\\x03#\\x03$\\x03$\\x03!\\x03!\\x03\"\\x03#\\x03!\\x03!\\x03 \\x03#\\x03$\\x03$\\x03$\\x03$\\x03$\\x03$\\x03$\\x03$\\x03\\'\\x03\\'\\x03&\\x03&\\x03&\\x03&\\x03&\\x03&\\x03%\\x03%\\x03$\\x03%\\x03%\\x03%\\x03$\\x03$\\x03$\\x03$\\x03$\\x03\\'\\x03%\\x03$\\x03%\\x03(\\x03,\\x03,\\x03.\\x03.\\x03,\\x03+\\x03.\\x03.\\x03/\\x03/\\x032\\x031\\x031\\x031\\x032\\x032\\x031\\x032\\x033\\x033\\x031\\x032\\x030\\x031\\x03/\\x030\\x03/\\x03/\\x03.\\x03-\\x03.\\x03,\\x03+\\x03+\\x03.\\x03.\\x03.\\x03.\\x03-\\x03,\\x03,\\x03-\\x03-\\x03-\\x03,\\x03,\\x03*\\x03)\\x03(\\x03(\\x03(\\x03(\\x03(\\x03\\'\\x03(\\x03\\'\\x03(\\x03(\\x03)\\x03)\\x03*\\x03*\\x03*\\x03*\\x03,\\x03-\\x03-\\x03.\\x030\\x031\\x031\\x030\\x03/\\x031\\x031\\x032\\x033\\x034\\x033\\x034\\x036\\x036\\x035\\x034\\x033\\x032\\x032\\x036\\x036\\x036\\x038\\x03:\\x03:\\x03:\\x03<\\x03=\\x03<\\x03?\\x03@\\x03@\\x03B\\x03C\\x03C\\x03D\\x03D\\x03C\\x03E\\x03E\\x03E\\x03F\\x03F\\x03H\\x03H\\x03G\\x03F\\x03F\\x03I\\x03H\\x03G\\x03F\\x03E\\x03E\\x03D\\x03C\\x03E\\x03B\\x03A\\x03@\\x03@\\x03>\\x03>\\x03<\\x03;\\x03;\\x03:\\x039\\x038\\x037\\x037\\x039\\x035\\x035\\x035\\x035\\x034\\x032\\x031\\x030\\x03/\\x030\\x030\\x031\\x031\\x031\\x031\\x031\\x031\\x033\\x033\\x034\\x034\\x035\\x036\\x037\\x036\\x036\\x038\\x036\\x037\\x038\\x039\\x038\\x039\\x039\\x03;\\x038\\x03:\\x03;\\x037\\x03:\\x03:\\x039\\x039\\x039\\x039\\x039\\x038\\x037\\x036\\x037\\x037\\x037\\x037\\x037\\x036\\x036\\x035\\x034\\x031\\x031\\x031\\x031\\x031\\x030\\x030\\x03-\\x03/\\x03/\\x03.\\x03/\\x03.\\x03.\\x03-\\x03,\\x03,\\x03)\\x03)\\x03(\\x03(\\x03(\\x03)\\x03+\\x03*\\x03\\'\\x03&\\x03&\\x03%\\x03$\\x03\\'\\x03\\'\\x03\\'\\x03*\\x03)\\x03)\\x03(\\x03+\\x03*\\x03(\\x03(\\x03(\\x03+\\x03*\\x03&\\x03\"\\x03\\x1e\\x03%\\x03&\\x03&\\x03&\\x03&\\x03%\\x03%\\x03%\\x03$\\x03$\\x03!\\x03\\x1b\\x03\"\\x03!\\x03\\x1e\\x03#\\x03#\\x03\"\\x03!\\x03&\\x03\\'\\x03%\\x03%\\x03%\\x03%\\x03%\\x03%\\x03#\\x03#\\x03%\\x03%\\x03&\\x03%\\x03&\\x03$\\x03$\\x03#\\x03#\\x03\"\\x03\"\\x03%\\x03%\\x03#\\x03$\\x03$\\x03$\\x03$\\x03#\\x03#\\x03#\\x03%\\x03\\'\\x03&\\x03&\\x03&\\x03&\\x03(\\x03,\\x03*\\x03%\\x03\\'\\x03+\\x03+\\x03,\\x03-\\x03,\\x03+\\x03/\\x03.\\x030\\x03/\\x032\\x037\\x033\\x034\\x032\\x031\\x030\\x030\\x032\\x031\\x034\\x03.\\x033\\x033\\x031\\x033\\x031\\x032\\x035\\x036\\x03=\\x03?\\x03<\\x037\\x039\\x03>\\x03>\\x03<\\x03:\\x03;\\x038\\x039\\x03<\\x03=\\x03=\\x03<\\x03>\\x03=\\x03;\\x03<\\x03<\\x03A\\x03A\\x03@\\x03=\\x03=\\x03>\\x03?\\x03=\\x03;\\x03?\\x03>\\x03>\\x03<\\x03<\\x03<\\x03=\\x03=\\x03;\\x039\\x03<\\x03:\\x03<\\x03:\\x039\\x03;\\x038\\x037\\x038\\x038\\x037\\x036\\x035\\x034\\x032\\x031\\x03,\\x03-\\x03-\\x03-\\x03,\\x03,\\x03,\\x03,\\x03+\\x03+\\x03,\\x03.\\x03*\\x03)\\x03*\\x03+\\x03\\'\\x03\\'\\x03&\\x03%\\x03&\\x03%\\x03%\\x03%\\x03&\\x03$\\x03$\\x03&\\x03%\\x03\"\\x03#\\x03!\\x03\"\\x03\\x1f\\x03#\\x03#\\x03#\\x03!\\x03\\x1b\\x03\\x1c\\x03 \\x03 \\x03\\x1d\\x03\\x16\\x03\\x1e\\x03\\x1f\\x03\\x1e\\x03 \\x03 \\x03 \\x03\\x1f\\x03\\x1f\\x03\\x1f\\x03#\\x03\\x1d\\x03\\x1a\\x03\\x1d\\x03\\x1d\\x03\\x1c\\x03\\x1d\\x03!\\x03!\\x03\\x1f\\x03\\x1f\\x03 \\x03!\\x03#\\x03 \\x03 \\x03 \\x03 \\x03#\\x03#\\x03\"\\x03$\\x03#\\x03\\x1d\\x03!\\x03\\x1f\\x03 \\x03\"\\x03#\\x03$\\x03\\x1f\\x03\\x1e\\x03\"\\x03#\\x03$\\x03#\\x03#\\x03$\\x03#\\x03\"\\x03\"\\x03\"\\x03!\\x03\\x1f\\x03!\\x03!\\x03!\\x03$\\x03\"\\x03#\\x03&\\x03\\'\\x03#\\x03#\\x03$\\x03#\\x03\"\\x03\\x1f\\x03\\x1c\\x03\\x1e\\x03\\x1a\\x03\\x1b\\x03\\x14\\x03\\x1c\\x03\\x1f\\x03\\x1a\\x03\\x19\\x03\\x18\\x03\\x17\\x03\\x18\\x03\\x18\\x03\\x19\\x03\\x19\\x03\\x1c\\x03\\x1b\\x03\\x17\\x03\\x17\\x03\\x15\\x03\\x14\\x03\\x15\\x03\\x13\\x03\\x12\\x03\\x12\\x03\\x10\\x03\\x17\\x03\\x1c\\x03\\x12\\x03\\x10\\x03\\r\\x03\\x0e\\x03\\r\\x03\\x11\\x03\\x14\\x03\\x12\\x03\\x0f\\x03\\x0e\\x03\\x0f\\x03\\x11\\x03\\x15\\x03\\x10\\x03\\x0b\\x03\\x0b\\x03\\x0b\\x03\\x08\\x03\\x01\\x03\\x06\\x03\\x0e\\x03\\r\\x03\\x08\\x03\\x04\\x03\\x0c\\x03\\x10\\x03\\x10\\x03\\x0e\\x03'"
      ]
     },
     "execution_count": 54,
     "metadata": {},
     "output_type": "execute_result"
    }
   ],
   "source": [
    "scanline"
   ]
  },
  {
   "cell_type": "code",
   "execution_count": 55,
   "metadata": {
    "collapsed": false
   },
   "outputs": [
    {
     "data": {
      "text/plain": [
       "(673,\n",
       " 671,\n",
       " 671,\n",
       " 671,\n",
       " 671,\n",
       " 671,\n",
       " 673,\n",
       " 673,\n",
       " 674,\n",
       " 676,\n",
       " 675,\n",
       " 677,\n",
       " 677,\n",
       " 676,\n",
       " 676,\n",
       " 678,\n",
       " 677,\n",
       " 669,\n",
       " 676,\n",
       " 678,\n",
       " 682,\n",
       " 680,\n",
       " 683,\n",
       " 679,\n",
       " 678,\n",
       " 679,\n",
       " 676,\n",
       " 676,\n",
       " 678,\n",
       " 678,\n",
       " 678,\n",
       " 681,\n",
       " 680,\n",
       " 682,\n",
       " 683,\n",
       " 682,\n",
       " 682,\n",
       " 683,\n",
       " 685,\n",
       " 685,\n",
       " 686,\n",
       " 687,\n",
       " 687,\n",
       " 690,\n",
       " 691,\n",
       " 692,\n",
       " 694,\n",
       " 690,\n",
       " 691,\n",
       " 691,\n",
       " 690,\n",
       " 688,\n",
       " 688,\n",
       " 687,\n",
       " 688,\n",
       " 688,\n",
       " 687,\n",
       " 686,\n",
       " 684,\n",
       " 683,\n",
       " 680,\n",
       " 681,\n",
       " 686,\n",
       " 686,\n",
       " 682,\n",
       " 681,\n",
       " 680,\n",
       " 678,\n",
       " 678,\n",
       " 680,\n",
       " 683,\n",
       " 685,\n",
       " 683,\n",
       " 684,\n",
       " 681,\n",
       " 684,\n",
       " 684,\n",
       " 687,\n",
       " 688,\n",
       " 688,\n",
       " 688,\n",
       " 691,\n",
       " 691,\n",
       " 690,\n",
       " 690,\n",
       " 690,\n",
       " 690,\n",
       " 690,\n",
       " 690,\n",
       " 689,\n",
       " 687,\n",
       " 688,\n",
       " 689,\n",
       " 689,\n",
       " 689,\n",
       " 687,\n",
       " 686,\n",
       " 684,\n",
       " 683,\n",
       " 684,\n",
       " 684,\n",
       " 684,\n",
       " 688,\n",
       " 690,\n",
       " 691,\n",
       " 684,\n",
       " 680,\n",
       " 678,\n",
       " 680,\n",
       " 682,\n",
       " 684,\n",
       " 693,\n",
       " 691,\n",
       " 691,\n",
       " 693,\n",
       " 690,\n",
       " 688,\n",
       " 689,\n",
       " 692,\n",
       " 690,\n",
       " 688,\n",
       " 684,\n",
       " 685,\n",
       " 684,\n",
       " 687,\n",
       " 687,\n",
       " 686,\n",
       " 689,\n",
       " 690,\n",
       " 690,\n",
       " 689,\n",
       " 689,\n",
       " 689,\n",
       " 691,\n",
       " 689,\n",
       " 693,\n",
       " 693,\n",
       " 692,\n",
       " 693,\n",
       " 694,\n",
       " 694,\n",
       " 695,\n",
       " 695,\n",
       " 696,\n",
       " 695,\n",
       " 695,\n",
       " 696,\n",
       " 695,\n",
       " 696,\n",
       " 698,\n",
       " 697,\n",
       " 696,\n",
       " 695,\n",
       " 695,\n",
       " 694,\n",
       " 693,\n",
       " 692,\n",
       " 692,\n",
       " 692,\n",
       " 691,\n",
       " 691,\n",
       " 689,\n",
       " 689,\n",
       " 691,\n",
       " 691,\n",
       " 691,\n",
       " 693,\n",
       " 696,\n",
       " 695,\n",
       " 694,\n",
       " 694,\n",
       " 694,\n",
       " 694,\n",
       " 695,\n",
       " 696,\n",
       " 697,\n",
       " 697,\n",
       " 699,\n",
       " 698,\n",
       " 700,\n",
       " 702,\n",
       " 707,\n",
       " 708,\n",
       " 710,\n",
       " 711,\n",
       " 712,\n",
       " 712,\n",
       " 714,\n",
       " 711,\n",
       " 713,\n",
       " 714,\n",
       " 716,\n",
       " 715,\n",
       " 714,\n",
       " 718,\n",
       " 717,\n",
       " 716,\n",
       " 710,\n",
       " 706,\n",
       " 705,\n",
       " 705,\n",
       " 708,\n",
       " 709,\n",
       " 712,\n",
       " 711,\n",
       " 709,\n",
       " 708,\n",
       " 709,\n",
       " 708,\n",
       " 705,\n",
       " 704,\n",
       " 703,\n",
       " 701,\n",
       " 700,\n",
       " 701,\n",
       " 698,\n",
       " 698,\n",
       " 706,\n",
       " 697,\n",
       " 696,\n",
       " 697,\n",
       " 699,\n",
       " 698,\n",
       " 699,\n",
       " 699,\n",
       " 699,\n",
       " 697,\n",
       " 696,\n",
       " 698,\n",
       " 697,\n",
       " 697,\n",
       " 698,\n",
       " 698,\n",
       " 696,\n",
       " 696,\n",
       " 695,\n",
       " 697,\n",
       " 698,\n",
       " 700,\n",
       " 701,\n",
       " 701,\n",
       " 701,\n",
       " 704,\n",
       " 707,\n",
       " 705,\n",
       " 707,\n",
       " 708,\n",
       " 708,\n",
       " 709,\n",
       " 709,\n",
       " 708,\n",
       " 708,\n",
       " 709,\n",
       " 708,\n",
       " 709,\n",
       " 710,\n",
       " 710,\n",
       " 710,\n",
       " 710,\n",
       " 710,\n",
       " 709,\n",
       " 710,\n",
       " 710,\n",
       " 709,\n",
       " 709,\n",
       " 708,\n",
       " 708,\n",
       " 708,\n",
       " 709,\n",
       " 709,\n",
       " 708,\n",
       " 707,\n",
       " 709,\n",
       " 713,\n",
       " 713,\n",
       " 713,\n",
       " 714,\n",
       " 712,\n",
       " 711,\n",
       " 706,\n",
       " 709,\n",
       " 708,\n",
       " 707,\n",
       " 707,\n",
       " 706,\n",
       " 706,\n",
       " 705,\n",
       " 704,\n",
       " 703,\n",
       " 704,\n",
       " 706,\n",
       " 705,\n",
       " 704,\n",
       " 704,\n",
       " 704,\n",
       " 704,\n",
       " 704,\n",
       " 707,\n",
       " 707,\n",
       " 707,\n",
       " 711,\n",
       " 711,\n",
       " 710,\n",
       " 711,\n",
       " 712,\n",
       " 711,\n",
       " 713,\n",
       " 714,\n",
       " 712,\n",
       " 712,\n",
       " 713,\n",
       " 711,\n",
       " 710,\n",
       " 711,\n",
       " 709,\n",
       " 705,\n",
       " 706,\n",
       " 706,\n",
       " 704,\n",
       " 703,\n",
       " 703,\n",
       " 702,\n",
       " 701,\n",
       " 702,\n",
       " 703,\n",
       " 702,\n",
       " 701,\n",
       " 699,\n",
       " 700,\n",
       " 701,\n",
       " 700,\n",
       " 703,\n",
       " 702,\n",
       " 701,\n",
       " 700,\n",
       " 701,\n",
       " 701,\n",
       " 701,\n",
       " 701,\n",
       " 700,\n",
       " 700,\n",
       " 700,\n",
       " 700,\n",
       " 702,\n",
       " 702,\n",
       " 700,\n",
       " 701,\n",
       " 700,\n",
       " 701,\n",
       " 701,\n",
       " 701,\n",
       " 701,\n",
       " 704,\n",
       " 702,\n",
       " 704,\n",
       " 704,\n",
       " 710,\n",
       " 710,\n",
       " 704,\n",
       " 702,\n",
       " 703,\n",
       " 704,\n",
       " 705,\n",
       " 704,\n",
       " 706,\n",
       " 707,\n",
       " 707,\n",
       " 707,\n",
       " 707,\n",
       " 708,\n",
       " 710,\n",
       " 711,\n",
       " 712,\n",
       " 712,\n",
       " 713,\n",
       " 710,\n",
       " 711,\n",
       " 712,\n",
       " 712,\n",
       " 713,\n",
       " 713,\n",
       " 712,\n",
       " 714,\n",
       " 713,\n",
       " 713,\n",
       " 712,\n",
       " 711,\n",
       " 711,\n",
       " 712,\n",
       " 712,\n",
       " 712,\n",
       " 713,\n",
       " 712,\n",
       " 711,\n",
       " 711,\n",
       " 712,\n",
       " 711,\n",
       " 712,\n",
       " 712,\n",
       " 714,\n",
       " 715,\n",
       " 715,\n",
       " 715,\n",
       " 714,\n",
       " 714,\n",
       " 714,\n",
       " 714,\n",
       " 714,\n",
       " 714,\n",
       " 714,\n",
       " 714,\n",
       " 716,\n",
       " 715,\n",
       " 715,\n",
       " 715,\n",
       " 715,\n",
       " 715,\n",
       " 716,\n",
       " 716,\n",
       " 716,\n",
       " 716,\n",
       " 717,\n",
       " 718,\n",
       " 719,\n",
       " 719,\n",
       " 719,\n",
       " 720,\n",
       " 721,\n",
       " 722,\n",
       " 724,\n",
       " 726,\n",
       " 725,\n",
       " 726,\n",
       " 727,\n",
       " 727,\n",
       " 727,\n",
       " 727,\n",
       " 729,\n",
       " 731,\n",
       " 731,\n",
       " 732,\n",
       " 732,\n",
       " 732,\n",
       " 732,\n",
       " 734,\n",
       " 735,\n",
       " 735,\n",
       " 736,\n",
       " 737,\n",
       " 738,\n",
       " 738,\n",
       " 738,\n",
       " 739,\n",
       " 740,\n",
       " 741,\n",
       " 738,\n",
       " 740,\n",
       " 738,\n",
       " 736,\n",
       " 738,\n",
       " 737,\n",
       " 737,\n",
       " 734,\n",
       " 734,\n",
       " 735,\n",
       " 734,\n",
       " 732,\n",
       " 733,\n",
       " 734,\n",
       " 734,\n",
       " 735,\n",
       " 736,\n",
       " 738,\n",
       " 740,\n",
       " 741,\n",
       " 742,\n",
       " 744,\n",
       " 744,\n",
       " 746,\n",
       " 747,\n",
       " 749,\n",
       " 750,\n",
       " 751,\n",
       " 750,\n",
       " 750,\n",
       " 750,\n",
       " 750,\n",
       " 750,\n",
       " 749,\n",
       " 749,\n",
       " 749,\n",
       " 749,\n",
       " 749,\n",
       " 749,\n",
       " 750,\n",
       " 754,\n",
       " 755,\n",
       " 755,\n",
       " 753,\n",
       " 753,\n",
       " 754,\n",
       " 754,\n",
       " 754,\n",
       " 754,\n",
       " 754,\n",
       " 753,\n",
       " 753,\n",
       " 753,\n",
       " 754,\n",
       " 756,\n",
       " 756,\n",
       " 759,\n",
       " 760,\n",
       " 762,\n",
       " 764,\n",
       " 764,\n",
       " 764,\n",
       " 763,\n",
       " 762,\n",
       " 762,\n",
       " 762,\n",
       " 762,\n",
       " 763,\n",
       " 763,\n",
       " 761,\n",
       " 761,\n",
       " 761,\n",
       " 760,\n",
       " 758,\n",
       " 757,\n",
       " 756,\n",
       " 756,\n",
       " 755,\n",
       " 756,\n",
       " 756,\n",
       " 758,\n",
       " 759,\n",
       " 758,\n",
       " 760,\n",
       " 762,\n",
       " 762,\n",
       " 765,\n",
       " 765,\n",
       " 765,\n",
       " 767,\n",
       " 769,\n",
       " 768,\n",
       " 769,\n",
       " 770,\n",
       " 772,\n",
       " 773,\n",
       " 774,\n",
       " 775,\n",
       " 778,\n",
       " 779,\n",
       " 782,\n",
       " 782,\n",
       " 783,\n",
       " 784,\n",
       " 785,\n",
       " 783,\n",
       " 780,\n",
       " 777,\n",
       " 776,\n",
       " 775,\n",
       " 772,\n",
       " 773,\n",
       " 772,\n",
       " 772,\n",
       " 772,\n",
       " 771,\n",
       " 769,\n",
       " 770,\n",
       " 768,\n",
       " 768,\n",
       " 766,\n",
       " 765,\n",
       " 764,\n",
       " 762,\n",
       " 761,\n",
       " 758,\n",
       " 759,\n",
       " 757,\n",
       " 757,\n",
       " 762,\n",
       " 763,\n",
       " 762,\n",
       " 766,\n",
       " 762,\n",
       " 767,\n",
       " 766,\n",
       " 767,\n",
       " 768,\n",
       " 772,\n",
       " 769,\n",
       " 765,\n",
       " 763,\n",
       " 762,\n",
       " 763,\n",
       " 762,\n",
       " 764,\n",
       " 765,\n",
       " 765,\n",
       " 768,\n",
       " 768,\n",
       " 768,\n",
       " 771,\n",
       " 770,\n",
       " 773,\n",
       " 775,\n",
       " 775,\n",
       " 777,\n",
       " 778,\n",
       " 778,\n",
       " 778,\n",
       " 782,\n",
       " 783,\n",
       " 783,\n",
       " 783,\n",
       " 782,\n",
       " 781,\n",
       " 782,\n",
       " 781,\n",
       " 783,\n",
       " 783,\n",
       " 780,\n",
       " 779,\n",
       " 779,\n",
       " 778,\n",
       " 778,\n",
       " 779,\n",
       " 779,\n",
       " 779,\n",
       " 777,\n",
       " 778,\n",
       " 778,\n",
       " 776,\n",
       " 777,\n",
       " 780,\n",
       " 780,\n",
       " 781,\n",
       " 785,\n",
       " 790,\n",
       " 789,\n",
       " 788,\n",
       " 789,\n",
       " 791,\n",
       " 792,\n",
       " 794,\n",
       " 797,\n",
       " 798,\n",
       " 798,\n",
       " 798,\n",
       " 797,\n",
       " 796,\n",
       " 793,\n",
       " 790,\n",
       " 789,\n",
       " 789,\n",
       " 787,\n",
       " 785,\n",
       " 784,\n",
       " 781,\n",
       " 780,\n",
       " 780,\n",
       " 780,\n",
       " 780,\n",
       " 779,\n",
       " 779,\n",
       " 779,\n",
       " 779,\n",
       " 782,\n",
       " 784,\n",
       " 784,\n",
       " 786,\n",
       " 789,\n",
       " 790,\n",
       " 789,\n",
       " 789,\n",
       " 789,\n",
       " 790,\n",
       " 790,\n",
       " 792,\n",
       " 791,\n",
       " 788,\n",
       " 788,\n",
       " 788,\n",
       " 787,\n",
       " 787,\n",
       " 788,\n",
       " 792,\n",
       " 794,\n",
       " 794,\n",
       " 800,\n",
       " 805,\n",
       " 805,\n",
       " 805,\n",
       " 803,\n",
       " 804,\n",
       " 805,\n",
       " 807,\n",
       " 806,\n",
       " 808,\n",
       " 811,\n",
       " 816,\n",
       " 819,\n",
       " 822,\n",
       " 823,\n",
       " 824,\n",
       " 825,\n",
       " 823,\n",
       " 824,\n",
       " 826,\n",
       " 826,\n",
       " 826,\n",
       " 829,\n",
       " 829,\n",
       " 832,\n",
       " 833,\n",
       " 833,\n",
       " 834,\n",
       " 833,\n",
       " 834,\n",
       " 833,\n",
       " 833,\n",
       " 832,\n",
       " 833,\n",
       " 835,\n",
       " 839,\n",
       " 841,\n",
       " 843,\n",
       " 843,\n",
       " 842,\n",
       " 842,\n",
       " 842,\n",
       " 842,\n",
       " 843,\n",
       " 845,\n",
       " 847,\n",
       " 848,\n",
       " 848,\n",
       " 849,\n",
       " 847,\n",
       " 846,\n",
       " 847,\n",
       " 848,\n",
       " 851,\n",
       " 857,\n",
       " 861,\n",
       " 862,\n",
       " 859,\n",
       " 858,\n",
       " 860,\n",
       " 861,\n",
       " 860,\n",
       " 861,\n",
       " 864,\n",
       " 866,\n",
       " 867,\n",
       " 870,\n",
       " 873,\n",
       " 879,\n",
       " 883,\n",
       " 888,\n",
       " 892,\n",
       " 892,\n",
       " 887,\n",
       " 873,\n",
       " 850,\n",
       " 840,\n",
       " 838,\n",
       " 836,\n",
       " 834,\n",
       " 834,\n",
       " 828,\n",
       " 827,\n",
       " 832,\n",
       " 839,\n",
       " 839,\n",
       " 835,\n",
       " 828,\n",
       " 818,\n",
       " 812,\n",
       " 805,\n",
       " 803,\n",
       " 803,\n",
       " 803,\n",
       " 804,\n",
       " 804,\n",
       " 804,\n",
       " 804,\n",
       " 799,\n",
       " 796,\n",
       " 795,\n",
       " 792,\n",
       " 792,\n",
       " 799,\n",
       " 803,\n",
       " 803,\n",
       " 806,\n",
       " 809,\n",
       " 808,\n",
       " 808,\n",
       " 809,\n",
       " 812,\n",
       " 813,\n",
       " 813,\n",
       " 813,\n",
       " 809,\n",
       " 803,\n",
       " 797,\n",
       " 791,\n",
       " 787,\n",
       " 788,\n",
       " 785,\n",
       " 782,\n",
       " 780,\n",
       " 778,\n",
       " 775,\n",
       " 772,\n",
       " 773,\n",
       " 772,\n",
       " 771,\n",
       " 769,\n",
       " 767,\n",
       " 766,\n",
       " 766,\n",
       " 765,\n",
       " 765,\n",
       " 767,\n",
       " 766,\n",
       " 767,\n",
       " 766,\n",
       " 768,\n",
       " 766,\n",
       " 764,\n",
       " 762,\n",
       " 760,\n",
       " 759,\n",
       " 756,\n",
       " 756,\n",
       " 756,\n",
       " 752,\n",
       " 750,\n",
       " 747,\n",
       " 748,\n",
       " 751,\n",
       " 750,\n",
       " 749,\n",
       " 753,\n",
       " 753,\n",
       " 755,\n",
       " 755,\n",
       " 754,\n",
       " 752,\n",
       " 750,\n",
       " 749,\n",
       " 749,\n",
       " 749,\n",
       " 750,\n",
       " 752,\n",
       " 754,\n",
       " 755,\n",
       " 755,\n",
       " 756,\n",
       " 756,\n",
       " 758,\n",
       " 760,\n",
       " 763,\n",
       " 764,\n",
       " 766,\n",
       " 766,\n",
       " 765,\n",
       " 763,\n",
       " 761,\n",
       " 759,\n",
       " 760,\n",
       " 761,\n",
       " 762,\n",
       " 762,\n",
       " 769,\n",
       " 773,\n",
       " 775,\n",
       " 769,\n",
       " 774,\n",
       " 784,\n",
       " 780,\n",
       " 779,\n",
       " 782,\n",
       " 782,\n",
       " 781,\n",
       " 783,\n",
       " 781,\n",
       " 777,\n",
       " 774,\n",
       " 768,\n",
       " 763,\n",
       " 758,\n",
       " 754,\n",
       " 751,\n",
       " 750,\n",
       " 748,\n",
       " 750,\n",
       " 753,\n",
       " 756,\n",
       " 757,\n",
       " 760,\n",
       " 764,\n",
       " 770,\n",
       " 774,\n",
       " 775,\n",
       " 778,\n",
       " 782,\n",
       " 783,\n",
       " 787,\n",
       " 786,\n",
       " 781,\n",
       " 777,\n",
       " 773,\n",
       " 771,\n",
       " 772,\n",
       " 774,\n",
       " 773,\n",
       " 768,\n",
       " 762,\n",
       " 757,\n",
       " 754,\n",
       " 753,\n",
       " 751,\n",
       " 753,\n",
       " 753,\n",
       " 752,\n",
       " 753,\n",
       " 757,\n",
       " 760,\n",
       " 760,\n",
       " 758,\n",
       " 759,\n",
       " 759,\n",
       " 756,\n",
       " 755,\n",
       " 756,\n",
       " 758,\n",
       " 756,\n",
       " 754,\n",
       " 751,\n",
       " 750,\n",
       " 753,\n",
       " 756,\n",
       " 760,\n",
       " 764,\n",
       " 767,\n",
       " 766,\n",
       " 765,\n",
       " 765,\n",
       " 764,\n",
       " 762,\n",
       " 761,\n",
       " 761,\n",
       " 762,\n",
       " 763,\n",
       " 761,\n",
       " 758,\n",
       " 755,\n",
       " 755,\n",
       " 754,\n",
       " 751,\n",
       " 746,\n",
       " 744,\n",
       " 741,\n",
       " 738,\n",
       " 737,\n",
       " 738,\n",
       " 741,\n",
       " 744,\n",
       " 746,\n",
       " 748,\n",
       " 750,\n",
       " 752,\n",
       " 755,\n",
       " 757,\n",
       " 758,\n",
       " 762,\n",
       " 770,\n",
       " 781,\n",
       " 784,\n",
       " 784,\n",
       " 784,\n",
       " 784,\n",
       " 783,\n",
       " 783,\n",
       " 779,\n",
       " 780,\n",
       " 782,\n",
       " 786,\n",
       " 786,\n",
       " 788,\n",
       " 789,\n",
       " 790,\n",
       " 796,\n",
       " ...)"
      ]
     },
     "execution_count": 55,
     "metadata": {},
     "output_type": "execute_result"
    }
   ],
   "source": [
    "import struct\n",
    "value = struct.unpack('H' * band.XSize, scanline)\n",
    "value"
   ]
  },
  {
   "cell_type": "code",
   "execution_count": 56,
   "metadata": {
    "collapsed": false
   },
   "outputs": [
    {
     "name": "stdout",
     "output_type": "stream",
     "text": [
      "(3600, 3600)\n"
     ]
    },
    {
     "data": {
      "text/plain": [
       "372"
      ]
     },
     "execution_count": 56,
     "metadata": {},
     "output_type": "execute_result"
    }
   ],
   "source": [
    "import numpy as np\n",
    "data = band.ReadAsArray(0, 0, cols, rows)\n",
    "print(np.shape(data))\n",
    "value = data[3599,3599]\n",
    "value"
   ]
  },
  {
   "cell_type": "code",
   "execution_count": 57,
   "metadata": {
    "collapsed": true
   },
   "outputs": [],
   "source": [
    "data = band.ReadAsArray(0, 0, dataset.RasterXSize, dataset.RasterYSize).astype(np.int16)"
   ]
  },
  {
   "cell_type": "code",
   "execution_count": 58,
   "metadata": {
    "collapsed": false
   },
   "outputs": [
    {
     "data": {
      "text/plain": [
       "198"
      ]
     },
     "execution_count": 58,
     "metadata": {},
     "output_type": "execute_result"
    }
   ],
   "source": [
    "data[3000, 3000]"
   ]
  },
  {
   "cell_type": "markdown",
   "metadata": {},
   "source": [
    "# Plot geotiff"
   ]
  },
  {
   "cell_type": "code",
   "execution_count": 59,
   "metadata": {
    "collapsed": false
   },
   "outputs": [
    {
     "data": {
      "text/plain": [
       "array([[673, 671, 671, ..., 784, 784, 782],\n",
       "       [673, 672, 673, ..., 784, 784, 779],\n",
       "       [673, 674, 675, ..., 783, 783, 780],\n",
       "       ..., \n",
       "       [579, 577, 583, ..., 374, 371, 371],\n",
       "       [581, 578, 576, ..., 374, 372, 373],\n",
       "       [578, 578, 577, ..., 374, 372, 372]], dtype=int16)"
      ]
     },
     "execution_count": 59,
     "metadata": {},
     "output_type": "execute_result"
    }
   ],
   "source": [
    "elevation = band.ReadAsArray()\n",
    "elevation"
   ]
  },
  {
   "cell_type": "code",
   "execution_count": 60,
   "metadata": {
    "collapsed": false
   },
   "outputs": [
    {
     "data": {
      "image/png": "[encoded data removed]",
      "text/plain": [
       "<matplotlib.figure.Figure at 0x129f10f90>"
      ]
     },
     "metadata": {},
     "output_type": "display_data"
    }
   ],
   "source": [
    "%matplotlib inline\n",
    "\n",
    "import matplotlib.pyplot as plt\n",
    "plt.imshow(elevation, cmap='gist_earth')\n",
    "plt.show()"
   ]
  },
  {
   "cell_type": "code",
   "execution_count": 61,
   "metadata": {
    "collapsed": false,
    "scrolled": true
   },
   "outputs": [
    {
     "data": {
      "image/png": "[encoded data removed]",
      "text/plain": [
       "<matplotlib.figure.Figure at 0x129f42d90>"
      ]
     },
     "metadata": {},
     "output_type": "display_data"
    }
   ],
   "source": [
    "nrows, ncols = elevation.shape\n",
    "\n",
    "# I'm making the assumption that the image isn't rotated/skewed/etc. \n",
    "# This is not the correct method in general, but let's ignore that for now\n",
    "# If dxdy or dydx aren't 0, then this will be incorrect\n",
    "x0, dx, dxdy, y0, dydx, dy = dataset.GetGeoTransform()\n",
    "\n",
    "x1 = x0 + dx * ncols\n",
    "y1 = y0 + dy * nrows\n",
    "\n",
    "plt.imshow(elevation, cmap='gist_earth', extent=[x0, x1, y1, y0])\n",
    "plt.show()"
   ]
  },
  {
   "cell_type": "code",
   "execution_count": 62,
   "metadata": {
    "collapsed": false
   },
   "outputs": [
    {
     "name": "stdout",
     "output_type": "stream",
     "text": [
      "(76.99986111111112, ' ', 13.00013888888889, ' ', 77.99986111111112, ' ', 12.00013888888889)\n"
     ]
    }
   ],
   "source": [
    "print(x0, ' ', y0, ' ', x1, ' ', y1)"
   ]
  },
  {
   "cell_type": "markdown",
   "metadata": {},
   "source": [
    "# Pre-processing data for clustering"
   ]
  },
  {
   "cell_type": "code",
   "execution_count": 70,
   "metadata": {
    "collapsed": false
   },
   "outputs": [
    {
     "data": {
      "text/plain": [
       "[0, 0, 0, 0, 0]"
      ]
     },
     "execution_count": 70,
     "metadata": {},
     "output_type": "execute_result"
    }
   ],
   "source": [
    "row = []\n",
    "column = []\n",
    "height = []\n",
    "\n",
    "for i in range(np.shape(elevation)[0]):\n",
    "    for j in range(np.shape(elevation)[1]):\n",
    "        row.append(i)\n",
    "        column.append(j)\n",
    "        height.append(elevation[i,j])\n",
    "row[:5]"
   ]
  },
  {
   "cell_type": "code",
   "execution_count": 74,
   "metadata": {
    "collapsed": false
   },
   "outputs": [],
   "source": [
    "import pandas as pd\n",
    "\n",
    "data_height = pd.DataFrame({ 'row' : row, 'column' : column, 'height' : height})"
   ]
  },
  {
   "cell_type": "code",
   "execution_count": 85,
   "metadata": {
    "collapsed": false
   },
   "outputs": [],
   "source": [
    "\n",
    "from sklearn.preprocessing import StandardScaler\n",
    "scaler = StandardScaler()\n",
    "data_height_scaled = pd.DataFrame(scaler.fit_transform(data_height), columns=data_height.columns)\n"
   ]
  },
  {
   "cell_type": "code",
   "execution_count": 86,
   "metadata": {
    "collapsed": false
   },
   "outputs": [],
   "source": [
    "from sklearn.cluster import KMeans\n",
    "\n",
    "number_of_clusters = 3\n",
    "model_scaled = KMeans(n_clusters = number_of_clusters)\n",
    "model_scaled.fit(data_height_scaled[['row', 'column', 'height']])\n",
    "data_height_scaled['clusters'] = model_scaled.labels_"
   ]
  },
  {
   "cell_type": "code",
   "execution_count": 79,
   "metadata": {
    "collapsed": false
   },
   "outputs": [
    {
     "data": {
      "text/plain": [
       "(3600, 3600)"
      ]
     },
     "execution_count": 79,
     "metadata": {},
     "output_type": "execute_result"
    }
   ],
   "source": [
    "np.shape(elevation)"
   ]
  },
  {
   "cell_type": "code",
   "execution_count": 89,
   "metadata": {
    "collapsed": false
   },
   "outputs": [
    {
     "data": {
      "text/plain": [
       "<matplotlib.axes._subplots.AxesSubplot at 0x141332f90>"
      ]
     },
     "execution_count": 89,
     "metadata": {},
     "output_type": "execute_result"
    },
    {
     "data": {
      "image/png": "[encoded data removed]",
      "text/plain": [
       "<matplotlib.figure.Figure at 0x1413328d0>"
      ]
     },
     "metadata": {},
     "output_type": "display_data"
    }
   ],
   "source": [
    "data_height_scaled.boxplot(by='clusters', column=['height'])"
   ]
  },
  {
   "cell_type": "code",
   "execution_count": 81,
   "metadata": {
    "collapsed": true
   },
   "outputs": [],
   "source": [
    "cluster_labels = np.reshape(model_scaled.labels_, (3600, 3600 ))\n",
    "cluster_labels"
   ]
  },
  {
   "cell_type": "code",
   "execution_count": 84,
   "metadata": {
    "collapsed": false
   },
   "outputs": [
    {
     "data": {
      "image/png": "[encoded data removed]",
      "text/plain": [
       "<matplotlib.figure.Figure at 0x1410573d0>"
      ]
     },
     "metadata": {},
     "output_type": "display_data"
    }
   ],
   "source": [
    "plt.imshow(cluster_labels, cmap='gist_earth')\n",
    "plt.show()"
   ]
  },
  {
   "cell_type": "code",
   "execution_count": null,
   "metadata": {
    "collapsed": true
   },
   "outputs": [],
   "source": []
  }
 ],
 "metadata": {
  "anaconda-cloud": {},
  "kernelspec": {
   "display_name": "Python 2",
   "language": "python",
   "name": "python2"
  },
  "language_info": {
   "codemirror_mode": {
    "name": "ipython",
    "version": 2
   },
   "file_extension": ".py",
   "mimetype": "text/x-python",
   "name": "python",
   "nbconvert_exporter": "python",
   "pygments_lexer": "ipython2",
   "version": "2.7.13"
  }
 },
 "nbformat": 4,
 "nbformat_minor": 1
}
